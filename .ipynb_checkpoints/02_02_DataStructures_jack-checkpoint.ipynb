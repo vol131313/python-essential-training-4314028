{
 "cells": [
  {
   "cell_type": "markdown",
   "id": "cf410bc6",
   "metadata": {},
   "source": [
    "# Data Structures "
   ]
  },
  {
   "cell_type": "markdown",
   "id": "956a5aaa",
   "metadata": {},
   "source": [
    "## Lists"
   ]
  },
  {
   "cell_type": "code",
   "execution_count": 21,
   "id": "df2ddf35",
   "metadata": {},
   "outputs": [],
   "source": [
    "## order of elements within lists matters\n",
    "\n",
    "my_list = [1,2,3,4]"
   ]
  },
  {
   "cell_type": "code",
   "execution_count": 3,
   "id": "58be7ec3",
   "metadata": {},
   "outputs": [
    {
     "name": "stdout",
     "output_type": "stream",
     "text": [
      "[1, 2, 3, 4]\n"
     ]
    }
   ],
   "source": [
    "print(my_list)"
   ]
  },
  {
   "cell_type": "code",
   "execution_count": 6,
   "id": "5e5e9605",
   "metadata": {},
   "outputs": [
    {
     "name": "stdout",
     "output_type": "stream",
     "text": [
      "['Red', 'Yellow', 'Blue']\n"
     ]
    }
   ],
   "source": [
    "my_list1 = [\"Red\", \"Yellow\", \"Blue\"]\n",
    "print(my_list1)"
   ]
  },
  {
   "cell_type": "code",
   "execution_count": 9,
   "id": "4852ce13",
   "metadata": {},
   "outputs": [
    {
     "name": "stdout",
     "output_type": "stream",
     "text": [
      "[[1, 2, 3, 4], ['Red', 'Yellow', 'Blue']]\n"
     ]
    }
   ],
   "source": [
    "my_list_mix = [my_list, my_list1]\n",
    "print(my_list_mix)"
   ]
  },
  {
   "cell_type": "code",
   "execution_count": 10,
   "id": "97bcfd4b",
   "metadata": {},
   "outputs": [
    {
     "data": {
      "text/plain": [
       "2"
      ]
     },
     "execution_count": 10,
     "metadata": {},
     "output_type": "execute_result"
    }
   ],
   "source": [
    "len(my_list_mix)"
   ]
  },
  {
   "cell_type": "markdown",
   "id": "25abcc16",
   "metadata": {},
   "source": [
    "## Sets "
   ]
  },
  {
   "cell_type": "code",
   "execution_count": 26,
   "id": "9f7592dc",
   "metadata": {},
   "outputs": [],
   "source": [
    "## list where each eleement is unique , order does not matter "
   ]
  },
  {
   "cell_type": "code",
   "execution_count": 27,
   "id": "71b6b55b",
   "metadata": {},
   "outputs": [
    {
     "name": "stdout",
     "output_type": "stream",
     "text": [
      "{1}\n"
     ]
    },
    {
     "data": {
      "text/plain": [
       "1"
      ]
     },
     "execution_count": 27,
     "metadata": {},
     "output_type": "execute_result"
    }
   ],
   "source": [
    "my_set = {1,1,1}\n",
    "print(my_set)\n",
    "len(my_set)"
   ]
  },
  {
   "cell_type": "code",
   "execution_count": 28,
   "id": "84dc1ab0",
   "metadata": {},
   "outputs": [
    {
     "name": "stdout",
     "output_type": "stream",
     "text": [
      "{1, 2, 3, 4, 5}\n"
     ]
    },
    {
     "data": {
      "text/plain": [
       "5"
      ]
     },
     "execution_count": 28,
     "metadata": {},
     "output_type": "execute_result"
    }
   ],
   "source": [
    "my_set1 = {1,2,3,4,5,5,5,5}\n",
    "print(my_set1)\n",
    "len(my_set1)"
   ]
  },
  {
   "cell_type": "markdown",
   "id": "21e18cd0",
   "metadata": {},
   "source": [
    "## Tuple "
   ]
  },
  {
   "cell_type": "code",
   "execution_count": 33,
   "id": "4585c7a2",
   "metadata": {},
   "outputs": [
    {
     "name": "stdout",
     "output_type": "stream",
     "text": [
      "(1, 2, 3)\n"
     ]
    }
   ],
   "source": [
    "## order matters, you cannot edit or add things to tuples \n",
    "## Why use tuples? Compressed data storage. \n",
    "\n",
    "my_tuple = (1,2,3)\n",
    "print(my_tuple)"
   ]
  },
  {
   "cell_type": "markdown",
   "id": "c406714e",
   "metadata": {},
   "source": [
    "## Dictionaries"
   ]
  },
  {
   "cell_type": "code",
   "execution_count": 34,
   "id": "5fc85551",
   "metadata": {},
   "outputs": [],
   "source": [
    "my_dict = { \n",
    "    \"apple\" : \"red fruit\", \n",
    "    \"bear\" : \"scary animal\"\n",
    "}"
   ]
  },
  {
   "cell_type": "code",
   "execution_count": 37,
   "id": "81373677",
   "metadata": {},
   "outputs": [
    {
     "data": {
      "text/plain": [
       "'scary animal'"
      ]
     },
     "execution_count": 37,
     "metadata": {},
     "output_type": "execute_result"
    }
   ],
   "source": [
    "my_dict[\"bear\"]"
   ]
  },
  {
   "cell_type": "code",
   "execution_count": null,
   "id": "3a059a79",
   "metadata": {},
   "outputs": [],
   "source": []
  }
 ],
 "metadata": {
  "kernelspec": {
   "display_name": "Python 3 (ipykernel)",
   "language": "python",
   "name": "python3"
  },
  "language_info": {
   "codemirror_mode": {
    "name": "ipython",
    "version": 3
   },
   "file_extension": ".py",
   "mimetype": "text/x-python",
   "name": "python",
   "nbconvert_exporter": "python",
   "pygments_lexer": "ipython3",
   "version": "3.9.7"
  }
 },
 "nbformat": 4,
 "nbformat_minor": 5
}
